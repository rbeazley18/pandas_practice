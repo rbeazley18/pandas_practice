{
 "cells": [
  {
   "cell_type": "code",
   "execution_count": 1,
   "id": "45a306a5",
   "metadata": {},
   "outputs": [],
   "source": [
    "import os\n",
    "import requests\n",
    "from requests_html import HTMLSession\n",
    "import pandas as pd\n",
    "from pathlib import Path"
   ]
  },
  {
   "cell_type": "code",
   "execution_count": 2,
   "id": "b6efd661",
   "metadata": {},
   "outputs": [
    {
     "name": "stdout",
     "output_type": "stream",
     "text": [
      "C:\\Users\\rober\\coding\\pandas_projects\\Wikipedia Scraping\\notebooks\n",
      "C:\\Users\\rober\\coding\\pandas_projects\\Wikipedia Scraping\n",
      "C:\\Users\\rober\\coding\\pandas_projects\\Wikipedia Scraping\\data\n"
     ]
    }
   ],
   "source": [
    "cwd = os.getcwd()\n",
    "print(cwd)\n",
    "BASE_DIR = os.path.dirname(cwd)\n",
    "print(BASE_DIR)\n",
    "DATA_DIR = os.path.join(BASE_DIR, 'data')\n",
    "print(DATA_DIR)"
   ]
  },
  {
   "cell_type": "code",
   "execution_count": 3,
   "id": "ea4b8e07",
   "metadata": {},
   "outputs": [],
   "source": [
    "session = HTMLSession()\n",
    "\n",
    "r = session.get('https://en.wikipedia.org/wiki/List_of_United_States_cities_by_population')"
   ]
  },
  {
   "cell_type": "code",
   "execution_count": 4,
   "id": "df305a6e",
   "metadata": {},
   "outputs": [
    {
     "data": {
      "text/plain": [
       "200"
      ]
     },
     "execution_count": 4,
     "metadata": {},
     "output_type": "execute_result"
    }
   ],
   "source": [
    "r.status_code"
   ]
  },
  {
   "cell_type": "code",
   "execution_count": 5,
   "id": "ab477978",
   "metadata": {},
   "outputs": [],
   "source": [
    "# city = r.html.find('.wikitable', first=True)"
   ]
  },
  {
   "cell_type": "code",
   "execution_count": 6,
   "id": "f27a6c7b",
   "metadata": {},
   "outputs": [],
   "source": [
    "table_data = []\n",
    "header_names = []"
   ]
  },
  {
   "cell_type": "code",
   "execution_count": 7,
   "id": "6c409ec3",
   "metadata": {},
   "outputs": [],
   "source": [
    "wiki_table_html = r.html.find('.wikitable')"
   ]
  },
  {
   "cell_type": "code",
   "execution_count": 8,
   "id": "06be0f88",
   "metadata": {},
   "outputs": [],
   "source": [
    "parsed_table = wiki_table_html[1]"
   ]
  },
  {
   "cell_type": "code",
   "execution_count": 9,
   "id": "9d4cf19f",
   "metadata": {},
   "outputs": [],
   "source": [
    "rows = parsed_table.find('tr')"
   ]
  },
  {
   "cell_type": "code",
   "execution_count": 10,
   "id": "e338b15e",
   "metadata": {},
   "outputs": [
    {
     "name": "stdout",
     "output_type": "stream",
     "text": [
      "['2021\\nrank', 'City', 'State[c]', '2021\\nestimate', '2020\\ncensus', 'Change', '2020 land area', '2020 population density', 'Location']\n"
     ]
    }
   ],
   "source": [
    "header_row = rows[0]\n",
    "header_cols = header_row.find('th')\n",
    "header_names = [x.text for x in header_cols]\n",
    "print(header_names)"
   ]
  },
  {
   "cell_type": "code",
   "execution_count": 11,
   "id": "70b838f8",
   "metadata": {},
   "outputs": [
    {
     "name": "stdout",
     "output_type": "stream",
     "text": [
      "['Norwalk', 'California', '100,373', '102,773', '−2.34%', '9.7\\xa0sq\\xa0mi', '25.1\\xa0km2', '10,595/sq\\xa0mi', '4,091/km2', '33°54′N 118°05′W\\ufeff / \\ufeff33.90°N 118.08°W\\ufeff / 33.90; -118.08\\ufeff (Norwalk)']\n"
     ]
    }
   ],
   "source": [
    "for row in rows[1:]:\n",
    "    #print(row.text)\n",
    "    cols = row.find('td')\n",
    "    row_data = []\n",
    "    for col in cols:\n",
    "        row_data.append(col.text)\n",
    "    table_data.append(row_data)\n",
    "print(row_data)\n",
    "\n",
    "df = pd.DataFrame(table_data)\n",
    "output_file = 'wiki_city_data.csv'\n",
    "output_dir = Path(DATA_DIR)\n",
    "output_dir.mkdir(parents=True, exist_ok=True)\n",
    "df.to_csv(output_dir / output_file, index=False)        \n",
    "    "
   ]
  },
  {
   "cell_type": "code",
   "execution_count": 12,
   "id": "9171b440",
   "metadata": {},
   "outputs": [
    {
     "name": "stdout",
     "output_type": "stream",
     "text": [
      "Stored 'header_names' (list)\n"
     ]
    }
   ],
   "source": [
    "%store header_names"
   ]
  },
  {
   "cell_type": "code",
   "execution_count": null,
   "id": "0da6e71d",
   "metadata": {},
   "outputs": [],
   "source": []
  },
  {
   "cell_type": "code",
   "execution_count": null,
   "id": "54986707",
   "metadata": {},
   "outputs": [],
   "source": []
  }
 ],
 "metadata": {
  "kernelspec": {
   "display_name": "Python 3 (ipykernel)",
   "language": "python",
   "name": "python3"
  },
  "language_info": {
   "codemirror_mode": {
    "name": "ipython",
    "version": 3
   },
   "file_extension": ".py",
   "mimetype": "text/x-python",
   "name": "python",
   "nbconvert_exporter": "python",
   "pygments_lexer": "ipython3",
   "version": "3.10.6"
  }
 },
 "nbformat": 4,
 "nbformat_minor": 5
}
