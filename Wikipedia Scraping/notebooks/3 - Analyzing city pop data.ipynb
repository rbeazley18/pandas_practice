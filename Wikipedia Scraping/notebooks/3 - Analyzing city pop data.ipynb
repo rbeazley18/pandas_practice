{
 "cells": [
  {
   "cell_type": "code",
   "execution_count": 1,
   "id": "1f735087",
   "metadata": {},
   "outputs": [
    {
     "name": "stdout",
     "output_type": "stream",
     "text": [
      "Requirement already satisfied: matplotlib in c:\\users\\rober\\coding\\pandas_projects\\.venv\\lib\\site-packages (3.5.2)\n",
      "Requirement already satisfied: python-dateutil>=2.7 in c:\\users\\rober\\coding\\pandas_projects\\.venv\\lib\\site-packages (from matplotlib) (2.8.2)\n",
      "Requirement already satisfied: kiwisolver>=1.0.1 in c:\\users\\rober\\coding\\pandas_projects\\.venv\\lib\\site-packages (from matplotlib) (1.4.4)\n",
      "Requirement already satisfied: cycler>=0.10 in c:\\users\\rober\\coding\\pandas_projects\\.venv\\lib\\site-packages (from matplotlib) (0.11.0)\n",
      "Requirement already satisfied: pyparsing>=2.2.1 in c:\\users\\rober\\coding\\pandas_projects\\.venv\\lib\\site-packages (from matplotlib) (3.0.9)\n",
      "Requirement already satisfied: fonttools>=4.22.0 in c:\\users\\rober\\coding\\pandas_projects\\.venv\\lib\\site-packages (from matplotlib) (4.34.4)\n",
      "Requirement already satisfied: packaging>=20.0 in c:\\users\\rober\\coding\\pandas_projects\\.venv\\lib\\site-packages (from matplotlib) (21.3)\n",
      "Requirement already satisfied: numpy>=1.17 in c:\\users\\rober\\coding\\pandas_projects\\.venv\\lib\\site-packages (from matplotlib) (1.23.1)\n",
      "Requirement already satisfied: pillow>=6.2.0 in c:\\users\\rober\\coding\\pandas_projects\\.venv\\lib\\site-packages (from matplotlib) (9.2.0)\n",
      "Requirement already satisfied: six>=1.5 in c:\\users\\rober\\coding\\pandas_projects\\.venv\\lib\\site-packages (from python-dateutil>=2.7->matplotlib) (1.16.0)\n"
     ]
    },
    {
     "name": "stderr",
     "output_type": "stream",
     "text": [
      "\n",
      "[notice] A new release of pip available: 22.2.1 -> 22.2.2\n",
      "[notice] To update, run: python.exe -m pip install --upgrade pip\n"
     ]
    }
   ],
   "source": [
    "!pip install matplotlib"
   ]
  },
  {
   "cell_type": "code",
   "execution_count": 2,
   "id": "4325c85d",
   "metadata": {},
   "outputs": [],
   "source": [
    "import os\n",
    "import pandas as pd\n",
    "import matplotlib.pyplot as plt"
   ]
  },
  {
   "cell_type": "code",
   "execution_count": 3,
   "id": "9555f8ab",
   "metadata": {},
   "outputs": [
    {
     "name": "stdout",
     "output_type": "stream",
     "text": [
      "C:\\Users\\rober\\coding\\pandas_projects\\Wikipedia Scraping\\notebooks\n",
      "C:\\Users\\rober\\coding\\pandas_projects\\Wikipedia Scraping\n",
      "C:\\Users\\rober\\coding\\pandas_projects\\Wikipedia Scraping\\data\n"
     ]
    }
   ],
   "source": [
    "cwd = os.getcwd()\n",
    "print(cwd)\n",
    "BASE_DIR = os.path.dirname(cwd)\n",
    "print(BASE_DIR)\n",
    "DATA_DIR = os.path.join(BASE_DIR, 'data')\n",
    "print(DATA_DIR)"
   ]
  },
  {
   "cell_type": "code",
   "execution_count": 4,
   "id": "f59284ee",
   "metadata": {},
   "outputs": [],
   "source": [
    "cleaned_pop_data = os.path.join(DATA_DIR, 'cleaned_wiki_city_data.csv')\n",
    "df = pd.read_csv(cleaned_pop_data, index_col=False)"
   ]
  },
  {
   "cell_type": "code",
   "execution_count": 5,
   "id": "d51d9e2a",
   "metadata": {},
   "outputs": [
    {
     "data": {
      "text/html": [
       "<div>\n",
       "<style scoped>\n",
       "    .dataframe tbody tr th:only-of-type {\n",
       "        vertical-align: middle;\n",
       "    }\n",
       "\n",
       "    .dataframe tbody tr th {\n",
       "        vertical-align: top;\n",
       "    }\n",
       "\n",
       "    .dataframe thead th {\n",
       "        text-align: right;\n",
       "    }\n",
       "</style>\n",
       "<table border=\"1\" class=\"dataframe\">\n",
       "  <thead>\n",
       "    <tr style=\"text-align: right;\">\n",
       "      <th></th>\n",
       "      <th>City</th>\n",
       "      <th>State</th>\n",
       "      <th>2021 estimate</th>\n",
       "      <th>2020 census</th>\n",
       "      <th>Change (%)</th>\n",
       "      <th>2020 land area (square miles)</th>\n",
       "      <th>2020 population density (people per square mile)</th>\n",
       "      <th>Location</th>\n",
       "    </tr>\n",
       "  </thead>\n",
       "  <tbody>\n",
       "    <tr>\n",
       "      <th>0</th>\n",
       "      <td>New York</td>\n",
       "      <td>New York</td>\n",
       "      <td>8467513</td>\n",
       "      <td>8804190</td>\n",
       "      <td>-3.82</td>\n",
       "      <td>300.5</td>\n",
       "      <td>29298</td>\n",
       "      <td>40°39′N 73°55′W</td>\n",
       "    </tr>\n",
       "    <tr>\n",
       "      <th>1</th>\n",
       "      <td>Los Angeles</td>\n",
       "      <td>California</td>\n",
       "      <td>3849297</td>\n",
       "      <td>3898747</td>\n",
       "      <td>-1.27</td>\n",
       "      <td>469.5</td>\n",
       "      <td>8304</td>\n",
       "      <td>34°01′N 118°25′W</td>\n",
       "    </tr>\n",
       "    <tr>\n",
       "      <th>2</th>\n",
       "      <td>Chicago</td>\n",
       "      <td>Illinois</td>\n",
       "      <td>2696555</td>\n",
       "      <td>2746388</td>\n",
       "      <td>-1.81</td>\n",
       "      <td>227.7</td>\n",
       "      <td>12061</td>\n",
       "      <td>41°50′N 87°41′W</td>\n",
       "    </tr>\n",
       "    <tr>\n",
       "      <th>3</th>\n",
       "      <td>Houston</td>\n",
       "      <td>Texas</td>\n",
       "      <td>2288250</td>\n",
       "      <td>2304580</td>\n",
       "      <td>-0.71</td>\n",
       "      <td>640.4</td>\n",
       "      <td>3599</td>\n",
       "      <td>29°47′N 95°23′W</td>\n",
       "    </tr>\n",
       "    <tr>\n",
       "      <th>4</th>\n",
       "      <td>Phoenix</td>\n",
       "      <td>Arizona</td>\n",
       "      <td>1624569</td>\n",
       "      <td>1608139</td>\n",
       "      <td>1.02</td>\n",
       "      <td>518.0</td>\n",
       "      <td>3105</td>\n",
       "      <td>33°34′N 112°05′W</td>\n",
       "    </tr>\n",
       "    <tr>\n",
       "      <th>...</th>\n",
       "      <td>...</td>\n",
       "      <td>...</td>\n",
       "      <td>...</td>\n",
       "      <td>...</td>\n",
       "      <td>...</td>\n",
       "      <td>...</td>\n",
       "      <td>...</td>\n",
       "      <td>...</td>\n",
       "    </tr>\n",
       "    <tr>\n",
       "      <th>326</th>\n",
       "      <td>Lynn</td>\n",
       "      <td>Massachusetts</td>\n",
       "      <td>100843</td>\n",
       "      <td>101253</td>\n",
       "      <td>-0.40</td>\n",
       "      <td>10.7</td>\n",
       "      <td>9463</td>\n",
       "      <td>42°28′N 70°57′W</td>\n",
       "    </tr>\n",
       "    <tr>\n",
       "      <th>327</th>\n",
       "      <td>Carmel</td>\n",
       "      <td>Indiana</td>\n",
       "      <td>100777</td>\n",
       "      <td>99757</td>\n",
       "      <td>1.02</td>\n",
       "      <td>49.1</td>\n",
       "      <td>2032</td>\n",
       "      <td>39°35′N 86°36′W</td>\n",
       "    </tr>\n",
       "    <tr>\n",
       "      <th>328</th>\n",
       "      <td>Longmont</td>\n",
       "      <td>Colorado</td>\n",
       "      <td>100758</td>\n",
       "      <td>98885</td>\n",
       "      <td>1.89</td>\n",
       "      <td>28.8</td>\n",
       "      <td>3434</td>\n",
       "      <td>40°10′N 105°07′W</td>\n",
       "    </tr>\n",
       "    <tr>\n",
       "      <th>329</th>\n",
       "      <td>Tuscaloosa</td>\n",
       "      <td>Alabama</td>\n",
       "      <td>100618</td>\n",
       "      <td>99600</td>\n",
       "      <td>1.02</td>\n",
       "      <td>61.9</td>\n",
       "      <td>1609</td>\n",
       "      <td>33°13′N 87°32′W</td>\n",
       "    </tr>\n",
       "    <tr>\n",
       "      <th>330</th>\n",
       "      <td>Norwalk</td>\n",
       "      <td>California</td>\n",
       "      <td>100373</td>\n",
       "      <td>102773</td>\n",
       "      <td>-2.34</td>\n",
       "      <td>9.7</td>\n",
       "      <td>10595</td>\n",
       "      <td>33°54′N 118°05′W</td>\n",
       "    </tr>\n",
       "  </tbody>\n",
       "</table>\n",
       "<p>331 rows × 8 columns</p>\n",
       "</div>"
      ],
      "text/plain": [
       "            City          State  2021 estimate  2020 census  Change (%)  \\\n",
       "0       New York       New York        8467513      8804190       -3.82   \n",
       "1    Los Angeles     California        3849297      3898747       -1.27   \n",
       "2        Chicago       Illinois        2696555      2746388       -1.81   \n",
       "3        Houston          Texas        2288250      2304580       -0.71   \n",
       "4        Phoenix        Arizona        1624569      1608139        1.02   \n",
       "..           ...            ...            ...          ...         ...   \n",
       "326         Lynn  Massachusetts         100843       101253       -0.40   \n",
       "327       Carmel        Indiana         100777        99757        1.02   \n",
       "328     Longmont       Colorado         100758        98885        1.89   \n",
       "329   Tuscaloosa        Alabama         100618        99600        1.02   \n",
       "330      Norwalk     California         100373       102773       -2.34   \n",
       "\n",
       "     2020 land area (square miles)  \\\n",
       "0                            300.5   \n",
       "1                            469.5   \n",
       "2                            227.7   \n",
       "3                            640.4   \n",
       "4                            518.0   \n",
       "..                             ...   \n",
       "326                           10.7   \n",
       "327                           49.1   \n",
       "328                           28.8   \n",
       "329                           61.9   \n",
       "330                            9.7   \n",
       "\n",
       "     2020 population density (people per square mile)          Location  \n",
       "0                                               29298   40°39′N 73°55′W  \n",
       "1                                                8304  34°01′N 118°25′W  \n",
       "2                                               12061   41°50′N 87°41′W  \n",
       "3                                                3599   29°47′N 95°23′W  \n",
       "4                                                3105  33°34′N 112°05′W  \n",
       "..                                                ...               ...  \n",
       "326                                              9463   42°28′N 70°57′W  \n",
       "327                                              2032   39°35′N 86°36′W  \n",
       "328                                              3434  40°10′N 105°07′W  \n",
       "329                                              1609   33°13′N 87°32′W  \n",
       "330                                             10595  33°54′N 118°05′W  \n",
       "\n",
       "[331 rows x 8 columns]"
      ]
     },
     "execution_count": 5,
     "metadata": {},
     "output_type": "execute_result"
    }
   ],
   "source": [
    "df"
   ]
  },
  {
   "cell_type": "code",
   "execution_count": 6,
   "id": "0b293ca8",
   "metadata": {},
   "outputs": [],
   "source": [
    "pop_density = df['2020 population density (people per square mile)']\n",
    "city_land_area = df['2020 land area (square miles)']\n",
    "percent_change = df['Change (%)']\n",
    "pop_est_2021 = df['2021 estimate']\n",
    "city_name = df['City']"
   ]
  },
  {
   "cell_type": "code",
   "execution_count": 9,
   "id": "6c6687e0",
   "metadata": {},
   "outputs": [
    {
     "data": {
      "image/png": "[encoded data removed]",
      "text/plain": [
       "<Figure size 432x288 with 1 Axes>"
      ]
     },
     "metadata": {
      "needs_background": "light"
     },
     "output_type": "display_data"
    }
   ],
   "source": [
    "plt.plot(pop_density, label='Population Density (per sq mile)')\n",
    "plt.plot(city_land_area, label='City Land Area (sq miles)')\n",
    "# plt.plot(weekly_lows) #label='Weekly Low')\n",
    "# plt.plot(weekly_max_diff) #label='Max Weekly Difference')\n",
    "# plt.legend(loc=\"upper left\")\n",
    "plt.title(\"Population Graph\")\n",
    "plt.xlabel(\"Index\")\n",
    "plt.ylabel(\"Population\")\n",
    "plt.show()"
   ]
  },
  {
   "cell_type": "code",
   "execution_count": null,
   "id": "08635f53",
   "metadata": {},
   "outputs": [],
   "source": []
  }
 ],
 "metadata": {
  "kernelspec": {
   "display_name": "Python 3 (ipykernel)",
   "language": "python",
   "name": "python3"
  },
  "language_info": {
   "codemirror_mode": {
    "name": "ipython",
    "version": 3
   },
   "file_extension": ".py",
   "mimetype": "text/x-python",
   "name": "python",
   "nbconvert_exporter": "python",
   "pygments_lexer": "ipython3",
   "version": "3.10.6"
  }
 },
 "nbformat": 4,
 "nbformat_minor": 5
}
